{
 "cells": [
  {
   "cell_type": "markdown",
   "metadata": {},
   "source": [
    "# Texto para trabajar"
   ]
  },
  {
   "cell_type": "code",
   "execution_count": 4,
   "metadata": {},
   "outputs": [],
   "source": [
    "text = \"\"\"Interesting facts about the Moon. The Moon is Earth's only satellite. There are several interesting facts about the Moon and how it affects life here on Earth. \n",
    "On average, the Moon moves 4cm away from the Earth every year. This yearly drift is not significant enough to cause immediate effects on Earth. The highest daylight temperature of the Moon is 127 C\"\"\""
   ]
  },
  {
   "cell_type": "markdown",
   "metadata": {},
   "source": [
    "# Seperando el texto "
   ]
  },
  {
   "cell_type": "code",
   "execution_count": 5,
   "metadata": {},
   "outputs": [
    {
     "name": "stdout",
     "output_type": "stream",
     "text": [
      "Interesting facts about the Moon\n",
      " The Moon is Earth's only satellite\n",
      " There are several interesting facts about the Moon and how it affects life here on Earth\n",
      " \n",
      "On average, the Moon moves 4cm away from the Earth every year\n",
      " This yearly drift is not significant enough to cause immediate effects on Earth\n",
      " The highest daylight temperature of the Moon is 127 C\n"
     ]
    }
   ],
   "source": [
    "texto_separado = text.split(\".\");\n",
    "for i in texto_separado:\n",
    "    print(i)"
   ]
  },
  {
   "cell_type": "markdown",
   "metadata": {},
   "source": [
    "#definiendo palabras"
   ]
  },
  {
   "cell_type": "code",
   "execution_count": 43,
   "metadata": {},
   "outputs": [],
   "source": [
    "palabras = ['average','interesting','enough']"
   ]
  },
  {
   "cell_type": "markdown",
   "metadata": {},
   "source": [
    "# imprimiendo palabras clave como average, temperature, distance"
   ]
  },
  {
   "cell_type": "code",
   "execution_count": 44,
   "metadata": {},
   "outputs": [
    {
     "name": "stdout",
     "output_type": "stream",
     "text": [
      "first solution\n",
      " There are several interesting facts about the Moon and how it affects life here on Earth\n",
      " \n",
      "On average, the Moon moves 4cm away from the Earth every year\n",
      " This yearly drift is not significant enough to cause immediate effects on Earth\n",
      "--------------------\n",
      "second solution\n",
      " \n",
      "On average, the Moon moves 4cm away from the Earth every year\n",
      " There are several interesting facts about the Moon and how it affects life here on Earth\n",
      " This yearly drift is not significant enough to cause immediate effects on Earth\n"
     ]
    }
   ],
   "source": [
    "print(\"first solution\")\n",
    "\n",
    "for oracion in texto_separado:\n",
    "    for palabra in palabras:\n",
    "        if palabra in oracion:\n",
    "            print(oracion)\n",
    "            \n",
    "print(\"--------------------\")\n",
    "\n",
    "print(\"second solution\")\n",
    "   \n",
    "for palabra in palabras:   \n",
    "    for oracion in texto_separado:\n",
    "        if oracion.find(palabra) != -1:\n",
    "            print(oracion)   \n",
    "    "
   ]
  },
  {
   "cell_type": "markdown",
   "metadata": {},
   "source": [
    "# Cambiar letra C a 'Celsius'"
   ]
  },
  {
   "cell_type": "code",
   "execution_count": 45,
   "metadata": {},
   "outputs": [
    {
     "name": "stdout",
     "output_type": "stream",
     "text": [
      " The highest daylight temperature of the Moon is 127 Celsius\n"
     ]
    }
   ],
   "source": [
    "for oracion in texto_separado:\n",
    "    if 'C' in oracion:\n",
    "        print(oracion.replace('C','Celsius'))\n"
   ]
  },
  {
   "cell_type": "markdown",
   "metadata": {},
   "source": [
    "# EJERCICIO 2\n",
    "# Datos con los que vas a trabajar"
   ]
  },
  {
   "cell_type": "code",
   "execution_count": 1,
   "metadata": {},
   "outputs": [],
   "source": [
    "name = \"Moon\"\n",
    "gravity = 0.00162 # in kms\n",
    "planet = \"Earth\""
   ]
  },
  {
   "cell_type": "markdown",
   "metadata": {},
   "source": [
    "# creando plantilla"
   ]
  },
  {
   "cell_type": "code",
   "execution_count": 13,
   "metadata": {},
   "outputs": [
    {
     "name": "stdout",
     "output_type": "stream",
     "text": [
      "How The Gravity Of Affects Jupiter And Mars\n",
      "            gravity force is created by Jupiter,\n",
      "            the Jupiter is affected in multiple ways by Mars's gravity  of : 9.799999999999999 / ms/s2\n",
      "            \n"
     ]
    }
   ],
   "source": [
    "titulo = f\"How the gravity of affects {planet} and {name}\"\n",
    "plantilla = f\"\"\"{titulo.title()}\n",
    "            gravity force is created by {planet},\n",
    "            the {planet} is affected in multiple ways by {name}'s gravity  of : {gravity*1000 } / ms/s2\n",
    "            \"\"\".format(planet=planet,gravity=gravity,name=name)\n",
    "            \n",
    "print(plantilla)\n"
   ]
  },
  {
   "cell_type": "markdown",
   "metadata": {},
   "source": [
    "# nuevos datos de muestra\n",
    "# name = \"Mars\"\n",
    "# gravity = 0.0098\n",
    "# planet = \"Jupiter\""
   ]
  },
  {
   "cell_type": "code",
   "execution_count": 14,
   "metadata": {},
   "outputs": [
    {
     "name": "stdout",
     "output_type": "stream",
     "text": [
      "How The Gravity Of Affects Jupiter And Mars\n",
      "            gravity force is created by Jupiter,\n",
      "            the Jupiter is affected in multiple ways by Mars's gravity  of : 9.799999999999999 / ms/s2\n",
      "            \n"
     ]
    }
   ],
   "source": [
    "name = \"Mars\"\n",
    "gravity = 0.0098\n",
    "planet = \"Jupiter\"\n",
    "\n",
    "print(plantilla.format(name=\"Mars\",gravity=.0098,planet=\"Jupiter\"))"
   ]
  },
  {
   "cell_type": "markdown",
   "metadata": {},
   "source": [
    "# utilizandi distintos tipos de mostrar cadena"
   ]
  },
  {
   "cell_type": "code",
   "execution_count": 59,
   "metadata": {},
   "outputs": [
    {
     "name": "stdout",
     "output_type": "stream",
     "text": [
      "Gravity Facts About Moon \n",
      "      Planet Name : Earth\n",
      "      Gravity on Earth by Moon : 1.6199999999999999\n",
      "       \n",
      "Gravity Facts About Moon\n",
      "      Planet Name : Earth\n",
      "      Gravity on Earth by Moon : 1.6199999999999999\n",
      "      \n",
      " Gravity Facts About Moon\n",
      "      Planet Name : Earth\n",
      "      Gravity on Earth by Moon : 1.6199999999999999\n"
     ]
    }
   ],
   "source": [
    "# utilizando .format\n",
    "#titulo -> Gravity Facts About Earth\n",
    "\n",
    "print(\"\"\"Gravity Facts About {0} \n",
    "      Planet Name : {1}\n",
    "      Gravity on {1} by {0} : {2}\n",
    "       \"\"\".format(name,planet,gravity*1000))\n",
    "\n",
    "#utilizando fString\n",
    "\n",
    "print(f\"\"\"Gravity Facts About {name}\n",
    "      Planet Name : {planet}\n",
    "      Gravity on {planet} by {name} : {gravity*1000}\n",
    "      \"\"\")\n",
    "\n",
    "#utilizando porcentajes\n",
    "\n",
    "print(\"\"\" Gravity Facts About %s\n",
    "      Planet Name : %s\n",
    "      Gravity on %s by %s : %s\"\"\" %( name,planet,planet, name,gravity*1000))\n"
   ]
  }
 ],
 "metadata": {
  "interpreter": {
   "hash": "76d12eb921ba114c3bd7721e27e48a90dfee6ffcf82961aef533f47774a31010"
  },
  "kernelspec": {
   "display_name": "Python 3.9.1 64-bit",
   "language": "python",
   "name": "python3"
  },
  "language_info": {
   "codemirror_mode": {
    "name": "ipython",
    "version": 3
   },
   "file_extension": ".py",
   "mimetype": "text/x-python",
   "name": "python",
   "nbconvert_exporter": "python",
   "pygments_lexer": "ipython3",
   "version": "3.9.1"
  },
  "orig_nbformat": 4
 },
 "nbformat": 4,
 "nbformat_minor": 2
}
