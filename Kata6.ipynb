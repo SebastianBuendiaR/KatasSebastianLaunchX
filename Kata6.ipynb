{
 "cells": [
  {
   "cell_type": "markdown",
   "metadata": {},
   "source": [
    "# Creamos la lista planets y la mostramos\n",
    "# EJERCICIO 1"
   ]
  },
  {
   "cell_type": "code",
   "execution_count": 1,
   "metadata": {},
   "outputs": [
    {
     "name": "stdout",
     "output_type": "stream",
     "text": [
      "['venus', 'tierra', 'marte', 'jupiter', 'saturno', 'urano', 'neptuno', 'mercurio']\n"
     ]
    }
   ],
   "source": [
    "planets = ['venus','tierra','marte','jupiter','saturno','urano','neptuno','mercurio']\n",
    "\n",
    "print(planets)"
   ]
  },
  {
   "cell_type": "markdown",
   "metadata": {},
   "source": [
    "# Agregamos a plutón y mostramos el último elemento\n"
   ]
  },
  {
   "cell_type": "code",
   "execution_count": 2,
   "metadata": {},
   "outputs": [
    {
     "name": "stdout",
     "output_type": "stream",
     "text": [
      "plutón\n"
     ]
    }
   ],
   "source": [
    "planets.append('plutón')\n",
    "print(planets[-1])"
   ]
  },
  {
   "cell_type": "markdown",
   "metadata": {},
   "source": [
    "# Lista de planetas \n",
    "# EJERCICIO 2\n",
    "planets = ['Mercury', 'Venus', 'Earth', 'Mars', 'Jupiter', 'Saturn', 'Neptune']"
   ]
  },
  {
   "cell_type": "code",
   "execution_count": 19,
   "metadata": {},
   "outputs": [
    {
     "name": "stdout",
     "output_type": "stream",
     "text": [
      "planetas mas cercanos que Mars \n",
      "['Mercury', 'Venus', 'Earth']\n",
      "planetas mas alejados que Mars \n",
      "['Jupiter', 'Saturn', 'Neptune']\n"
     ]
    }
   ],
   "source": [
    "planets = ['Mercury', 'Venus', 'Earth', 'Mars', 'Jupiter', 'Saturn', 'Neptune']\n",
    "#solicitamos y buscamos planeta en lista\n",
    "usuarioPlaneta = input(\"ingrese el nombre de algun planeta comenzando con una letra Mayuscula: \")\n",
    "indice = planets.index(usuarioPlaneta)\n",
    "\n",
    "# Muestra los planetas más cercanos al sol\n",
    "print(f'planetas mas cercanos que {usuarioPlaneta} '.format(usuarioPlaneta))\n",
    "print(planets[0:indice])\n",
    "# Muestra los planetas más lejanos al sol\n",
    "print(f'planetas mas alejados que {usuarioPlaneta} '.format(usuarioPlaneta))\n",
    "print(planets[indice+1:])\n",
    "\n",
    "\n",
    "\n",
    "\n",
    "    "
   ]
  }
 ],
 "metadata": {
  "interpreter": {
   "hash": "76d12eb921ba114c3bd7721e27e48a90dfee6ffcf82961aef533f47774a31010"
  },
  "kernelspec": {
   "display_name": "Python 3.9.1 64-bit",
   "language": "python",
   "name": "python3"
  },
  "language_info": {
   "codemirror_mode": {
    "name": "ipython",
    "version": 3
   },
   "file_extension": ".py",
   "mimetype": "text/x-python",
   "name": "python",
   "nbconvert_exporter": "python",
   "pygments_lexer": "ipython3",
   "version": "3.9.1"
  },
  "orig_nbformat": 4
 },
 "nbformat": 4,
 "nbformat_minor": 2
}
