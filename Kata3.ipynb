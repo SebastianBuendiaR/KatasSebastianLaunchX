{
 "cells": [
  {
   "cell_type": "markdown",
   "metadata": {},
   "source": [
    "# Añadir el código necesario para crear una variable que guarde la velocidad del asteroide.\n",
    "# Escribe una expresión de prueba para calcular si necesita una advertencia.\n",
    "# Agregue las instrucciones que se ejecutarán si la expresión de prueba es true o false."
   ]
  },
  {
   "cell_type": "code",
   "execution_count": 6,
   "metadata": {},
   "outputs": [
    {
     "name": "stdout",
     "output_type": "stream",
     "text": [
      "Advertencia, asteroide aproximandose a la tierra\n"
     ]
    }
   ],
   "source": [
    "#velocidad_asteroide = int(input(\"ingrese la velocidad del asteroide\"))\n",
    "velocidad_asteroide = 29\n",
    "\n",
    "if velocidad_asteroide > 25:\n",
    "    print('Advertencia, asteroide aproximandose a la tierra')\n",
    "else:\n",
    "    print('nada')"
   ]
  },
  {
   "cell_type": "markdown",
   "metadata": {},
   "source": [
    "# Agrega el código para crear una variable para un asteroide que viaja a 19 km/s\n",
    "# Escribe varias expresiones de prueba para determinar si puedes ver el rayo de luz desde la tierra\n",
    "# Agrega las instrucciones que se ejecutarán si las expresiones de prueba son True o False"
   ]
  },
  {
   "cell_type": "code",
   "execution_count": 10,
   "metadata": {},
   "outputs": [
    {
     "name": "stdout",
     "output_type": "stream",
     "text": [
      "El rayo no es visible en la atmosfera\n"
     ]
    }
   ],
   "source": [
    "velocidad_asteroide = 15\n",
    "\n",
    "if velocidad_asteroide == 20:\n",
    "    print('Es posible que el rayo de luz se vea en la atmosfera')\n",
    "elif velocidad_asteroide >20:\n",
    "    print('El rayo de luz es visible en la atmosfera')\n",
    "else:\n",
    "    print('El rayo no es visible en la atmosfera')"
   ]
  },
  {
   "cell_type": "markdown",
   "metadata": {},
   "source": [
    "# Agrega el código para crear nuevas variables para la velocidad y el tamaño del asteroide\n",
    "# Para probar el código, prueba con varias velocidades y tamaños\n",
    "# Escribe varias expresiones de prueba o combinaciones de expresiones de prueba para determinar qué mensaje se debe enviar a Tierra."
   ]
  },
  {
   "cell_type": "code",
   "execution_count": null,
   "metadata": {},
   "outputs": [],
   "source": [
    "velocidad_asteroide = 40\n",
    "asteroide_tam = 25\n",
    "\n",
    "if asteroide_tam < 25:\n",
    "    print('el asteroide se quemará a medida que entre en la atmósfera')\n",
    "    if velocidad_asteroide > 25:\n",
    "        print('Advertencia, asteroide aproximandose a la tierra')\n",
    "        print('rayo de luz es visible en la tierra')\n",
    "    elif velocidad_asteroide >= 20:\n",
    "        print('Asteoride es visible desde la atmosfera')    \n",
    "    else:\n",
    "        print('el asteroide no es visible desde la atmosfera')\n",
    "elif asteroide_tam >= 25 and asteroide_tam <= 1000:\n",
    "    print('el asteroide debe considerarse potencialmente peligroso') \n",
    "    if velocidad_asteroide > 25:\n",
    "        print('Advertencia, asteroide aproximandose a la tierra')\n",
    "        print('rayo de luz es visible en la tierra')\n",
    "    elif velocidad_asteroide >= 20:\n",
    "        print('Asteoride es visible desde la atmosfera')    \n",
    "    else:\n",
    "        print('el asteroide no es visible desde la atmosfera')  \n",
    "else:\n",
    "    print('el asteroide destruira la tierra')\n",
    "            "
   ]
  }
 ],
 "metadata": {
  "interpreter": {
   "hash": "9ec7a034a92b617f615dfdda452db3be4768fb47947aafab0764f4995d07b3a4"
  },
  "kernelspec": {
   "display_name": "Python 3.10.2 64-bit",
   "language": "python",
   "name": "python3"
  },
  "language_info": {
   "codemirror_mode": {
    "name": "ipython",
    "version": 3
   },
   "file_extension": ".py",
   "mimetype": "text/x-python",
   "name": "python",
   "nbconvert_exporter": "python",
   "pygments_lexer": "ipython3",
   "version": "3.9.1"
  },
  "orig_nbformat": 4
 },
 "nbformat": 4,
 "nbformat_minor": 2
}
