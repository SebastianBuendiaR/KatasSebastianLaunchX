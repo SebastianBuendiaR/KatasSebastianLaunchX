{
 "cells": [
  {
   "cell_type": "markdown",
   "metadata": {},
   "source": [
    "#  Crear variables para almacenar las dos distancias\n",
    "# Ejercicio 1"
   ]
  },
  {
   "cell_type": "code",
   "execution_count": 2,
   "metadata": {},
   "outputs": [
    {
     "name": "stdout",
     "output_type": "stream",
     "text": [
      "628949330\n",
      "390577533.93\n"
     ]
    }
   ],
   "source": [
    "Tierra = 149597870\n",
    "Jupiter = 778547200\n",
    "\n",
    "# Calcular la distancia entre planetas\n",
    "def distanciaPlanetas(a,b):\n",
    "    return b-a\n",
    "# Calcular la distancia de kilometros en millas\n",
    "def transformarMillas(a):\n",
    "    return a*.621\n",
    "\n",
    "print(distanciaPlanetas(Tierra,Jupiter))\n",
    "print(transformarMillas(distanciaPlanetas(Tierra,Jupiter)))\n",
    "\n",
    "\n"
   ]
  },
  {
   "cell_type": "markdown",
   "metadata": {},
   "source": [
    "# Ejercicio 2\n",
    "# Convierte las cadenas de ambos planetas a números enteros"
   ]
  },
  {
   "cell_type": "code",
   "execution_count": 3,
   "metadata": {},
   "outputs": [
    {
     "name": "stdout",
     "output_type": "stream",
     "text": [
      "390577533.93\n"
     ]
    }
   ],
   "source": [
    "planetaUno = int(input(\"escriba distancia respecto al sol :\"))\n",
    "planetaDos = int(input(\"escriba distancia respecto al sol :\"))\n",
    "\n",
    "def valorAbsoluto(a):\n",
    "    return abs(a)\n",
    "\n",
    "print(valorAbsoluto(transformarMillas(distanciaPlanetas(planetaUno,planetaDos))))\n"
   ]
  }
 ],
 "metadata": {
  "interpreter": {
   "hash": "76d12eb921ba114c3bd7721e27e48a90dfee6ffcf82961aef533f47774a31010"
  },
  "kernelspec": {
   "display_name": "Python 3.9.1 64-bit",
   "language": "python",
   "name": "python3"
  },
  "language_info": {
   "codemirror_mode": {
    "name": "ipython",
    "version": 3
   },
   "file_extension": ".py",
   "mimetype": "text/x-python",
   "name": "python",
   "nbconvert_exporter": "python",
   "pygments_lexer": "ipython3",
   "version": "3.9.1"
  },
  "orig_nbformat": 4
 },
 "nbformat": 4,
 "nbformat_minor": 2
}
