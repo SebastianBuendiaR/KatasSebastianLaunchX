{
 "cells": [
  {
   "cell_type": "markdown",
   "metadata": {},
   "source": [
    "# Función para leer 3 tanques de combustible y muestre el promedio\n",
    "# Llamamos a la función que genera el reporte print(funcion(tanque1, tanque2, tanque3))\n",
    "# Actualiza la función\n",
    "# EJERCICIO 1"
   ]
  },
  {
   "cell_type": "code",
   "execution_count": 12,
   "metadata": {},
   "outputs": [
    {
     "name": "stdout",
     "output_type": "stream",
     "text": [
      "combustinble del tanque 1: 4, \n",
      "          combustinble del tanque 2: 3 , \n",
      "          combustinble del tanque 3: 7 \n",
      "None\n"
     ]
    }
   ],
   "source": [
    "def functionTanques(tanque_a,tanque_b,tanque_c):\n",
    "    print(f\"\"\"combustinble del tanque 1: {tanque_a}, \n",
    "          combustinble del tanque 2: {tanque_b} , \n",
    "          combustinble del tanque 3: {tanque_c} \"\"\"\n",
    "          .format(tanque_a,tanque_b,tanque_c))\n",
    "    \n",
    "print(functionTanques(4,3,7))"
   ]
  },
  {
   "cell_type": "markdown",
   "metadata": {},
   "source": [
    "# Función para leer 3 tanques de combustible y muestre el promedio\n",
    "# Función promedio \n",
    "# actualiza function"
   ]
  },
  {
   "cell_type": "code",
   "execution_count": 13,
   "metadata": {},
   "outputs": [
    {
     "name": "stdout",
     "output_type": "stream",
     "text": [
      "combustinble del tanque 1: 2, \n",
      "          combustinble del tanque 2: 4 , \n",
      "          combustinble del tanque 3: 6 \n",
      "el promedio de combustible es : 4.0\n",
      "None\n"
     ]
    }
   ],
   "source": [
    "def combustiblePromedio(tanque_a,tanque_b,tanque_c):\n",
    "    return  (tanque_a+tanque_b+tanque_c)/3\n",
    "\n",
    "def functionTanques(tanque_a,tanque_b,tanque_c):\n",
    "    print(f\"\"\"combustinble del tanque 1: {tanque_a}, \n",
    "          combustinble del tanque 2: {tanque_b} , \n",
    "          combustinble del tanque 3: {tanque_c} \"\"\"\n",
    "          .format(tanque_a,tanque_b,tanque_c))\n",
    "    print(\"el promedio de combustible en la nave es de :\" , combustiblePromedio(tanque_a,tanque_b,tanque_c))\n",
    "    \n",
    "print(functionTanques(2,4,6))\n",
    "\n",
    "\n",
    "\n"
   ]
  },
  {
   "cell_type": "markdown",
   "metadata": {},
   "source": [
    "# EJERCICIO 2\n",
    "# Función con un informe preciso de la misión. Considera hora de prelanzamiento, tiempo de vuelo, destino, tanque externo y tanque interno\n"
   ]
  },
  {
   "cell_type": "code",
   "execution_count": 1,
   "metadata": {},
   "outputs": [
    {
     "name": "stdout",
     "output_type": "stream",
     "text": [
      " La nave con destino a 30,\n",
      "          con una hora de prelanzamiento de 10,\n",
      "          lleva un tiempo de vuelo de 20,\n",
      "          con un tanque Externo que contiene al momento : 40, \n",
      "          y un tanque interno con : 50\n",
      "          \n"
     ]
    }
   ],
   "source": [
    "def lanzamientoCohete(prelanzamiento,tiempoVuelo,destino,tanqueExterno,tanqueInterno):\n",
    "    return f\"\"\" La nave con destino a {destino},\n",
    "          con una hora de prelanzamiento de {prelanzamiento},\n",
    "          lleva un tiempo de vuelo de {tiempoVuelo},\n",
    "          con un tanque Externo que contiene al momento : {tanqueExterno}, \n",
    "          y un tanque interno con : {tanqueInterno}\n",
    "          \"\"\".format(prelanzamiento,tiempoVuelo,destino,tanqueExterno,tanqueInterno)\n",
    "print(lanzamientoCohete(10,20,30,40,50))\n",
    "    \n",
    "\n",
    "    \n",
    "    "
   ]
  },
  {
   "cell_type": "markdown",
   "metadata": {},
   "source": [
    "# Utilizando *args y **kargs\n",
    "# Escribe tu nueva función de reporte considerando lo anterior\n",
    "# Considera hora de prelanzamiento, tiempo de vuelo, destino, tanque externo y tanque interno\n"
   ]
  },
  {
   "cell_type": "code",
   "execution_count": 50,
   "metadata": {},
   "outputs": [
    {
     "name": "stdout",
     "output_type": "stream",
     "text": [
      "TanqueInterno - 10\n",
      "TanqueExterno - 20\n",
      "El destino de este viaje es : Marte,\n",
      "            el tiempo total de viaje es : 90 horas,\n",
      "            las reservas totales de combustible son : 30 litros\n",
      "            Tanque interno: 10litros, tanque externo: 20 litros\n"
     ]
    }
   ],
   "source": [
    "def lanzamientoCohete(destino, *tiempoCohete , **reservaCombustible):\n",
    "    reporte = f\"\"\"El destino de este viaje es : {destino},\n",
    "            el tiempo total de viaje es : {sum(tiempoCohete)} horas,\n",
    "            las reservas totales de combustible son : {sum(reservaCombustible.values())} litros\n",
    "            \"\"\" + \"Tanque interno: \" + str(reservaCombustible.get('TanqueInterno')) + \"litros, tanque externo: \" +str(reservaCombustible.get('TanqueExterno')) +\" litros\"\n",
    "  \n",
    "            \n",
    "print(lanzamientoCohete('Marte', 20 , 30 , 40, TanqueInterno=10, TanqueExterno=20))\n",
    "\n",
    "\n"
   ]
  },
  {
   "cell_type": "code",
   "execution_count": 66,
   "metadata": {},
   "outputs": [
    {
     "name": "stdout",
     "output_type": "stream",
     "text": [
      "\n",
      "    El destino de este viaje es : marte\n",
      "    el tiempo total de viaje es : 6304 horas\n",
      "    las reservas totales de combustible son : 80 litros\n",
      "    CombustibleInterno contiene : 20 CombustibleExterno contiene : 30 TanqueExtra contiene : 30 \n"
     ]
    }
   ],
   "source": [
    "def lanzamientoCohete(destino, *tiempoCohete , **reservaCombustible):\n",
    "    reporte = f\"\"\"\n",
    "    El destino de este viaje es : {destino}\n",
    "    el tiempo total de viaje es : {sum(tiempoCohete)} horas\n",
    "    las reservas totales de combustible son : {sum(reservaCombustible.values())} litros\n",
    "    \"\"\"\n",
    "    Combustibles = \"\"\n",
    "    \n",
    "    for combustible, litros in reservaCombustible.items():\n",
    "        Combustibles += str(combustible) + \" contiene : \" + str(litros) + \" \"\n",
    "        \n",
    "    return reporte+Combustibles\n",
    "\n",
    "print(lanzamientoCohete('marte',4,100,2000,3200,1000,CombustibleInterno=20,CombustibleExterno=30,TanqueExtra=30))"
   ]
  }
 ],
 "metadata": {
  "interpreter": {
   "hash": "76d12eb921ba114c3bd7721e27e48a90dfee6ffcf82961aef533f47774a31010"
  },
  "kernelspec": {
   "display_name": "Python 3.9.1 64-bit",
   "language": "python",
   "name": "python3"
  },
  "language_info": {
   "codemirror_mode": {
    "name": "ipython",
    "version": 3
   },
   "file_extension": ".py",
   "mimetype": "text/x-python",
   "name": "python",
   "nbconvert_exporter": "python",
   "pygments_lexer": "ipython3",
   "version": "3.9.1"
  },
  "orig_nbformat": 4
 },
 "nbformat": 4,
 "nbformat_minor": 2
}
