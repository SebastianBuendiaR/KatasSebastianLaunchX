{
 "cells": [
  {
   "cell_type": "markdown",
   "metadata": {},
   "source": [
    "# Crea un diccionario llamado planet con los datos propuestos\n",
    "# Muestra el nombre del planeta y el número de lunas que tiene.\n"
   ]
  },
  {
   "cell_type": "code",
   "execution_count": 13,
   "metadata": {},
   "outputs": [
    {
     "name": "stdout",
     "output_type": "stream",
     "text": [
      "2\n",
      "Mars\n",
      "{'name': 'Mars', 'moons': 2}\n"
     ]
    }
   ],
   "source": [
    "planet = {\n",
    "    'name': 'Mars',\n",
    "    'moons': 2\n",
    "}\n",
    "\n",
    "print(planet.get('moons'))\n",
    "print(planet[\"name\"])\n",
    "\n",
    "print(planet)\n"
   ]
  },
  {
   "cell_type": "markdown",
   "metadata": {},
   "source": [
    "# Agrega la clave circunferencia con los datos proporcionados previamente\n",
    "# Imprime el nombre del planeta con su circunferencia polar.\n"
   ]
  },
  {
   "cell_type": "code",
   "execution_count": 27,
   "metadata": {},
   "outputs": [
    {
     "name": "stdout",
     "output_type": "stream",
     "text": [
      "{'name': 'Mars', 'moons': 2, 'circunferencia': {'polar': 6752, 'equatorial': 6792}}\n",
      "el planeta Mars tiene un circunferencia polar de: 6752\n"
     ]
    }
   ],
   "source": [
    "planet['circunferencia']={\n",
    "    'polar': 6752,\n",
    "    'equatorial': 6792\n",
    "}\n",
    "\n",
    "\n",
    "#imprimimos el diccionario\n",
    "print(planet)\n",
    "\n",
    "#imprimimos nombre dle planeta y circunferencia\n",
    "\n",
    "print(f\"\"\"el planeta { planet[\"name\"] } tiene un circunferencia polar de: {planet['circunferencia']['polar']}\"\"\".format(planet['name'],planet['circunferencia']['polar']))"
   ]
  },
  {
   "cell_type": "markdown",
   "metadata": {},
   "source": [
    "# EJERCICIO 2"
   ]
  },
  {
   "cell_type": "code",
   "execution_count": 29,
   "metadata": {},
   "outputs": [],
   "source": [
    "# Planets and moons\n",
    "\n",
    "planet_moons = {\n",
    "    'mercury': 0,\n",
    "    'venus': 0,\n",
    "    'earth': 1,\n",
    "    'mars': 2,\n",
    "    'jupiter': 79,\n",
    "    'saturn': 82,\n",
    "    'uranus': 27,\n",
    "    'neptune': 14,\n",
    "    'pluto': 5,\n",
    "    'haumea': 2,\n",
    "    'makemake': 1,\n",
    "    'eris': 1\n",
    "}"
   ]
  },
  {
   "cell_type": "markdown",
   "metadata": {},
   "source": [
    "# Añade el código para determinar el número de lunas.\n"
   ]
  },
  {
   "cell_type": "code",
   "execution_count": 46,
   "metadata": {},
   "outputs": [
    {
     "name": "stdout",
     "output_type": "stream",
     "text": [
      "El numero de lunas es 214\n",
      "promedio de lunas por planeta 17.833333333333332\n"
     ]
    }
   ],
   "source": [
    "Numero_lunas = 0\n",
    "#print(planet_moons.keys())\n",
    "\n",
    "numero_planetas = len(planet_moons.keys())\n",
    "\n",
    "\n",
    "for i in planet_moons.values():\n",
    "    Numero_lunas += i\n",
    "    \n",
    "print(f\"El numero de lunas es {Numero_lunas}\".format(Numero_lunas))\n",
    "\n",
    "print(f\"promedio de lunas por planeta {Numero_lunas / numero_planetas}\".format(numero_planetas,Numero_lunas))\n",
    "\n",
    "\n",
    "    \n",
    "    \n",
    "    "
   ]
  }
 ],
 "metadata": {
  "interpreter": {
   "hash": "76d12eb921ba114c3bd7721e27e48a90dfee6ffcf82961aef533f47774a31010"
  },
  "kernelspec": {
   "display_name": "Python 3.9.1 64-bit",
   "language": "python",
   "name": "python3"
  },
  "language_info": {
   "codemirror_mode": {
    "name": "ipython",
    "version": 3
   },
   "file_extension": ".py",
   "mimetype": "text/x-python",
   "name": "python",
   "nbconvert_exporter": "python",
   "pygments_lexer": "ipython3",
   "version": "3.9.1"
  },
  "orig_nbformat": 4
 },
 "nbformat": 4,
 "nbformat_minor": 2
}
